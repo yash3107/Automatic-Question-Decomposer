{
 "cells": [
  {
   "cell_type": "code",
   "execution_count": 4,
   "id": "0e3df382-ba62-4d73-8269-9c4a6724b25f",
   "metadata": {},
   "outputs": [
    {
     "name": "stdout",
     "output_type": "stream",
     "text": [
      "Requirement already satisfied: tensorflow in c:\\users\\riju3\\anaconda3\\lib\\site-packages (2.16.2)\n",
      "Collecting tensorflow_hub\n",
      "  Downloading tensorflow_hub-0.16.1-py2.py3-none-any.whl.metadata (1.3 kB)\n",
      "Requirement already satisfied: tensorflow-intel==2.16.2 in c:\\users\\riju3\\anaconda3\\lib\\site-packages (from tensorflow) (2.16.2)\n",
      "Requirement already satisfied: absl-py>=1.0.0 in c:\\users\\riju3\\anaconda3\\lib\\site-packages (from tensorflow-intel==2.16.2->tensorflow) (2.1.0)\n",
      "Requirement already satisfied: astunparse>=1.6.0 in c:\\users\\riju3\\anaconda3\\lib\\site-packages (from tensorflow-intel==2.16.2->tensorflow) (1.6.3)\n",
      "Requirement already satisfied: flatbuffers>=23.5.26 in c:\\users\\riju3\\anaconda3\\lib\\site-packages (from tensorflow-intel==2.16.2->tensorflow) (24.3.25)\n",
      "Requirement already satisfied: gast!=0.5.0,!=0.5.1,!=0.5.2,>=0.2.1 in c:\\users\\riju3\\anaconda3\\lib\\site-packages (from tensorflow-intel==2.16.2->tensorflow) (0.6.0)\n",
      "Requirement already satisfied: google-pasta>=0.1.1 in c:\\users\\riju3\\anaconda3\\lib\\site-packages (from tensorflow-intel==2.16.2->tensorflow) (0.2.0)\n",
      "Requirement already satisfied: h5py>=3.10.0 in c:\\users\\riju3\\anaconda3\\lib\\site-packages (from tensorflow-intel==2.16.2->tensorflow) (3.11.0)\n",
      "Requirement already satisfied: libclang>=13.0.0 in c:\\users\\riju3\\anaconda3\\lib\\site-packages (from tensorflow-intel==2.16.2->tensorflow) (18.1.1)\n",
      "Requirement already satisfied: ml-dtypes~=0.3.1 in c:\\users\\riju3\\anaconda3\\lib\\site-packages (from tensorflow-intel==2.16.2->tensorflow) (0.3.2)\n",
      "Requirement already satisfied: opt-einsum>=2.3.2 in c:\\users\\riju3\\anaconda3\\lib\\site-packages (from tensorflow-intel==2.16.2->tensorflow) (3.3.0)\n",
      "Requirement already satisfied: packaging in c:\\users\\riju3\\anaconda3\\lib\\site-packages (from tensorflow-intel==2.16.2->tensorflow) (23.1)\n",
      "Requirement already satisfied: protobuf!=4.21.0,!=4.21.1,!=4.21.2,!=4.21.3,!=4.21.4,!=4.21.5,<5.0.0dev,>=3.20.3 in c:\\users\\riju3\\anaconda3\\lib\\site-packages (from tensorflow-intel==2.16.2->tensorflow) (3.20.3)\n",
      "Requirement already satisfied: requests<3,>=2.21.0 in c:\\users\\riju3\\anaconda3\\lib\\site-packages (from tensorflow-intel==2.16.2->tensorflow) (2.31.0)\n",
      "Requirement already satisfied: setuptools in c:\\users\\riju3\\anaconda3\\lib\\site-packages (from tensorflow-intel==2.16.2->tensorflow) (68.2.2)\n",
      "Requirement already satisfied: six>=1.12.0 in c:\\users\\riju3\\anaconda3\\lib\\site-packages (from tensorflow-intel==2.16.2->tensorflow) (1.16.0)\n",
      "Requirement already satisfied: termcolor>=1.1.0 in c:\\users\\riju3\\anaconda3\\lib\\site-packages (from tensorflow-intel==2.16.2->tensorflow) (2.4.0)\n",
      "Requirement already satisfied: typing-extensions>=3.6.6 in c:\\users\\riju3\\anaconda3\\lib\\site-packages (from tensorflow-intel==2.16.2->tensorflow) (4.9.0)\n",
      "Requirement already satisfied: wrapt>=1.11.0 in c:\\users\\riju3\\anaconda3\\lib\\site-packages (from tensorflow-intel==2.16.2->tensorflow) (1.14.1)\n",
      "Requirement already satisfied: grpcio<2.0,>=1.24.3 in c:\\users\\riju3\\anaconda3\\lib\\site-packages (from tensorflow-intel==2.16.2->tensorflow) (1.64.1)\n",
      "Requirement already satisfied: tensorboard<2.17,>=2.16 in c:\\users\\riju3\\anaconda3\\lib\\site-packages (from tensorflow-intel==2.16.2->tensorflow) (2.16.2)\n",
      "Requirement already satisfied: keras>=3.0.0 in c:\\users\\riju3\\anaconda3\\lib\\site-packages (from tensorflow-intel==2.16.2->tensorflow) (3.4.1)\n",
      "Requirement already satisfied: tensorflow-io-gcs-filesystem>=0.23.1 in c:\\users\\riju3\\anaconda3\\lib\\site-packages (from tensorflow-intel==2.16.2->tensorflow) (0.31.0)\n",
      "Requirement already satisfied: numpy<2.0.0,>=1.23.5 in c:\\users\\riju3\\anaconda3\\lib\\site-packages (from tensorflow-intel==2.16.2->tensorflow) (1.26.4)\n",
      "Collecting tf-keras>=2.14.1 (from tensorflow_hub)\n",
      "  Downloading tf_keras-2.16.0-py3-none-any.whl.metadata (1.6 kB)\n",
      "Requirement already satisfied: wheel<1.0,>=0.23.0 in c:\\users\\riju3\\anaconda3\\lib\\site-packages (from astunparse>=1.6.0->tensorflow-intel==2.16.2->tensorflow) (0.41.2)\n",
      "Requirement already satisfied: rich in c:\\users\\riju3\\anaconda3\\lib\\site-packages (from keras>=3.0.0->tensorflow-intel==2.16.2->tensorflow) (13.3.5)\n",
      "Requirement already satisfied: namex in c:\\users\\riju3\\anaconda3\\lib\\site-packages (from keras>=3.0.0->tensorflow-intel==2.16.2->tensorflow) (0.0.8)\n",
      "Requirement already satisfied: optree in c:\\users\\riju3\\anaconda3\\lib\\site-packages (from keras>=3.0.0->tensorflow-intel==2.16.2->tensorflow) (0.11.0)\n",
      "Requirement already satisfied: charset-normalizer<4,>=2 in c:\\users\\riju3\\anaconda3\\lib\\site-packages (from requests<3,>=2.21.0->tensorflow-intel==2.16.2->tensorflow) (2.0.4)\n",
      "Requirement already satisfied: idna<4,>=2.5 in c:\\users\\riju3\\anaconda3\\lib\\site-packages (from requests<3,>=2.21.0->tensorflow-intel==2.16.2->tensorflow) (3.4)\n",
      "Requirement already satisfied: urllib3<3,>=1.21.1 in c:\\users\\riju3\\anaconda3\\lib\\site-packages (from requests<3,>=2.21.0->tensorflow-intel==2.16.2->tensorflow) (2.0.7)\n",
      "Requirement already satisfied: certifi>=2017.4.17 in c:\\users\\riju3\\anaconda3\\lib\\site-packages (from requests<3,>=2.21.0->tensorflow-intel==2.16.2->tensorflow) (2024.2.2)\n",
      "Requirement already satisfied: markdown>=2.6.8 in c:\\users\\riju3\\anaconda3\\lib\\site-packages (from tensorboard<2.17,>=2.16->tensorflow-intel==2.16.2->tensorflow) (3.4.1)\n",
      "Requirement already satisfied: tensorboard-data-server<0.8.0,>=0.7.0 in c:\\users\\riju3\\anaconda3\\lib\\site-packages (from tensorboard<2.17,>=2.16->tensorflow-intel==2.16.2->tensorflow) (0.7.2)\n",
      "Requirement already satisfied: werkzeug>=1.0.1 in c:\\users\\riju3\\anaconda3\\lib\\site-packages (from tensorboard<2.17,>=2.16->tensorflow-intel==2.16.2->tensorflow) (2.2.3)\n",
      "Requirement already satisfied: MarkupSafe>=2.1.1 in c:\\users\\riju3\\anaconda3\\lib\\site-packages (from werkzeug>=1.0.1->tensorboard<2.17,>=2.16->tensorflow-intel==2.16.2->tensorflow) (2.1.3)\n",
      "Requirement already satisfied: markdown-it-py<3.0.0,>=2.2.0 in c:\\users\\riju3\\anaconda3\\lib\\site-packages (from rich->keras>=3.0.0->tensorflow-intel==2.16.2->tensorflow) (2.2.0)\n",
      "Requirement already satisfied: pygments<3.0.0,>=2.13.0 in c:\\users\\riju3\\anaconda3\\lib\\site-packages (from rich->keras>=3.0.0->tensorflow-intel==2.16.2->tensorflow) (2.15.1)\n",
      "Requirement already satisfied: mdurl~=0.1 in c:\\users\\riju3\\anaconda3\\lib\\site-packages (from markdown-it-py<3.0.0,>=2.2.0->rich->keras>=3.0.0->tensorflow-intel==2.16.2->tensorflow) (0.1.0)\n",
      "Downloading tensorflow_hub-0.16.1-py2.py3-none-any.whl (30 kB)\n",
      "Downloading tf_keras-2.16.0-py3-none-any.whl (1.7 MB)\n",
      "   ---------------------------------------- 0.0/1.7 MB ? eta -:--:--\n",
      "   - -------------------------------------- 0.1/1.7 MB 1.6 MB/s eta 0:00:02\n",
      "   -------- ------------------------------- 0.3/1.7 MB 3.6 MB/s eta 0:00:01\n",
      "   -------------------------------- ------- 1.4/1.7 MB 9.9 MB/s eta 0:00:01\n",
      "   ---------------------------------------- 1.7/1.7 MB 10.9 MB/s eta 0:00:00\n",
      "Installing collected packages: tf-keras, tensorflow_hub\n",
      "Successfully installed tensorflow_hub-0.16.1 tf-keras-2.16.0\n",
      "Note: you may need to restart the kernel to use updated packages.\n"
     ]
    }
   ],
   "source": [
    "pip install tensorflow tensorflow_hub\n"
   ]
  },
  {
   "cell_type": "code",
   "execution_count": 5,
   "id": "aa928f38-59f6-4e7d-80df-4919d62ddac7",
   "metadata": {},
   "outputs": [
    {
     "name": "stdout",
     "output_type": "stream",
     "text": [
      "WARNING:tensorflow:From C:\\Users\\riju3\\anaconda3\\Lib\\site-packages\\tf_keras\\src\\losses.py:2976: The name tf.losses.sparse_softmax_cross_entropy is deprecated. Please use tf.compat.v1.losses.sparse_softmax_cross_entropy instead.\n",
      "\n",
      "WARNING:tensorflow:From C:\\Users\\riju3\\anaconda3\\Lib\\site-packages\\tensorflow_hub\\resolver.py:120: The name tf.gfile.MakeDirs is deprecated. Please use tf.io.gfile.makedirs instead.\n",
      "\n"
     ]
    },
    {
     "name": "stderr",
     "output_type": "stream",
     "text": [
      "WARNING:tensorflow:From C:\\Users\\riju3\\anaconda3\\Lib\\site-packages\\tensorflow_hub\\resolver.py:120: The name tf.gfile.MakeDirs is deprecated. Please use tf.io.gfile.makedirs instead.\n",
      "\n"
     ]
    },
    {
     "name": "stdout",
     "output_type": "stream",
     "text": [
      "WARNING:tensorflow:From C:\\Users\\riju3\\anaconda3\\Lib\\site-packages\\tensorflow_hub\\module_v2.py:126: The name tf.saved_model.load_v2 is deprecated. Please use tf.compat.v2.saved_model.load instead.\n",
      "\n"
     ]
    },
    {
     "name": "stderr",
     "output_type": "stream",
     "text": [
      "WARNING:tensorflow:From C:\\Users\\riju3\\anaconda3\\Lib\\site-packages\\tensorflow_hub\\module_v2.py:126: The name tf.saved_model.load_v2 is deprecated. Please use tf.compat.v2.saved_model.load instead.\n",
      "\n"
     ]
    },
    {
     "name": "stdout",
     "output_type": "stream",
     "text": [
      "Vector for 'example':\n",
      "[-0.02704002 -0.11247326  0.04185906 -0.14178483  0.0591066   0.04782936\n",
      " -0.03586115 -0.09831944 -0.01847516  0.05250432  0.01192388  0.13172114\n",
      "  0.10350939 -0.00633762  0.07986777  0.05102965  0.02358215 -0.02175358\n",
      "  0.06687003 -0.0260078  -0.01233077  0.02551993 -0.08814318 -0.0556698\n",
      "  0.06757135  0.0011623  -0.05232182  0.01261206  0.01509433 -0.04951294\n",
      "  0.06898803 -0.03676984  0.06880119  0.03604582  0.03560636  0.11708002\n",
      "  0.03944173 -0.09215836  0.02301581  0.02255157 -0.05861871  0.05226084\n",
      " -0.0394255  -0.03986511  0.06039399  0.04813685 -0.0252115  -0.06945021\n",
      " -0.01655867  0.06300201  0.01224385  0.03114526 -0.12043001  0.1315877\n",
      "  0.00125821 -0.06623819 -0.13007674  0.07899719 -0.07398598 -0.06690972\n",
      " -0.05253516 -0.00837993  0.13040332 -0.0372492   0.04889689  0.00989986\n",
      "  0.05295439 -0.07529651 -0.01676252 -0.00439956  0.12205137 -0.03905329\n",
      " -0.03244455  0.08453055  0.0093923  -0.02760688 -0.0136662  -0.05091183\n",
      " -0.01126079  0.0155871  -0.04877941 -0.02060797 -0.02434241 -0.04857703\n",
      "  0.07247917  0.04309155 -0.11447967  0.0398535   0.05497168 -0.06699727\n",
      "  0.00900672  0.00736031  0.01858171 -0.0056319  -0.03758809 -0.05691324\n",
      " -0.07942295  0.01230513  0.03629609  0.06686056  0.05690559  0.07537828\n",
      "  0.02637527  0.12506054 -0.04118451 -0.05667531 -0.08673992 -0.00953437\n",
      " -0.05988947  0.0174467   0.04283157  0.03725968  0.05561654  0.093043\n",
      "  0.03590946 -0.06888235 -0.03753832 -0.12095171  0.00735165  0.02309956\n",
      " -0.00380445  0.10426308 -0.04505556 -0.12310782 -0.02291719  0.1003536\n",
      "  0.05310697 -0.04383744  0.03531347 -0.05190144 -0.04218322 -0.03671047\n",
      " -0.11913598 -0.02258834  0.0105688   0.01282527 -0.03775272 -0.12284184\n",
      " -0.00251018 -0.03718399 -0.04972598 -0.02633533 -0.02110478 -0.09959117\n",
      " -0.1480594  -0.03708161 -0.05772663  0.05092969  0.04200438  0.05851603\n",
      " -0.16003695  0.07033079  0.0271016  -0.00107122  0.02414962  0.00980888\n",
      "  0.02569852 -0.05724829 -0.13108689 -0.00561202  0.04735789 -0.04844358\n",
      "  0.04021925  0.08862148  0.00191871  0.05987455 -0.02738392 -0.0492765\n",
      " -0.08328553 -0.03339499  0.10392242 -0.04578518 -0.03563811  0.02632581\n",
      "  0.03706367  0.01271592 -0.02052058  0.01974403 -0.01586419  0.02006313\n",
      " -0.07527162 -0.11770605 -0.01723959 -0.07400596  0.01643206 -0.06221834\n",
      "  0.0366823   0.07839223 -0.02421107  0.08285525 -0.01652192 -0.00697698\n",
      " -0.15439019  0.0210897   0.03557025 -0.00949092  0.01891866 -0.18773374\n",
      "  0.02597662 -0.07359704 -0.07931994 -0.04469689 -0.04633728 -0.08110467\n",
      " -0.05349032  0.00998869  0.08213026 -0.09164927 -0.049976   -0.04463672\n",
      " -0.06111375  0.06962445  0.16836628 -0.01211819  0.13792062  0.00546301\n",
      " -0.02561079  0.05670629 -0.0192298  -0.00495371 -0.03918771 -0.06860296\n",
      "  0.06035745  0.07581286 -0.13332173 -0.04406649 -0.09264651 -0.06824841\n",
      " -0.06574845 -0.06375048  0.02859431  0.04298506 -0.0672503   0.11987338\n",
      " -0.0385737   0.06856697 -0.05549784 -0.05529479 -0.0051545  -0.03275622\n",
      "  0.06860638  0.02805895 -0.01016797  0.01006876 -0.02551354  0.05022505\n",
      "  0.03840786 -0.03041357  0.06814301 -0.04600153]\n"
     ]
    }
   ],
   "source": [
    "import tensorflow as tf\n",
    "import tensorflow_hub as hub\n",
    "\n",
    "# Load the pre-trained embedding model from TensorFlow Hub\n",
    "embed = hub.load(\"https://tfhub.dev/google/Wiki-words-250/2\")\n",
    "\n",
    "def get_word_vector(word):\n",
    "    # Ensure the word is a string and wrap it in a list\n",
    "    if isinstance(word, str):\n",
    "        words = [word]\n",
    "    else:\n",
    "        raise ValueError(\"Input should be a single word as a string\")\n",
    "    \n",
    "    # Get the embedding for the word\n",
    "    embedding = embed(words)\n",
    "    \n",
    "    # Convert the embedding tensor to a numpy array and return the vector\n",
    "    word_vector = embedding.numpy()[0]\n",
    "    return word_vector\n"
   ]
  },
  {
   "cell_type": "code",
   "execution_count": null,
   "id": "67bb1c0d-9bf4-4ea7-ad24-f8d8f593a6bf",
   "metadata": {},
   "outputs": [],
   "source": []
  }
 ],
 "metadata": {
  "kernelspec": {
   "display_name": "Python 3 (ipykernel)",
   "language": "python",
   "name": "python3"
  },
  "language_info": {
   "codemirror_mode": {
    "name": "ipython",
    "version": 3
   },
   "file_extension": ".py",
   "mimetype": "text/x-python",
   "name": "python",
   "nbconvert_exporter": "python",
   "pygments_lexer": "ipython3",
   "version": "3.11.7"
  }
 },
 "nbformat": 4,
 "nbformat_minor": 5
}
